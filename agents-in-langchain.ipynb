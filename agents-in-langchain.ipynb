{
 "cells": [
  {
   "cell_type": "code",
   "execution_count": 28,
   "id": "19a03701",
   "metadata": {},
   "outputs": [],
   "source": [
    "import os\n",
    "from dotenv import load_dotenv\n",
    "\n",
    "load_dotenv()\n",
    "\n",
    "groq_api_key = os.getenv(\"GROQ_API_KEY\")"
   ]
  },
  {
   "cell_type": "code",
   "execution_count": 29,
   "id": "11a19c8f",
   "metadata": {},
   "outputs": [],
   "source": [
    "from langchain_groq import ChatGroq\n",
    "from langchain_core.tools import tool\n",
    "import requests"
   ]
  },
  {
   "cell_type": "code",
   "execution_count": 30,
   "id": "7bd5592a",
   "metadata": {},
   "outputs": [],
   "source": [
    "from ddgs import DDGS\n",
    "\n",
    "@tool\n",
    "def search(query: str) -> str:\n",
    "    \"\"\"\n",
    "    Search the web for information using duckduckgo\n",
    "    \"\"\"\n",
    "    search_tool = DDGS()\n",
    "    results = search_tool.text(query)\n",
    "    return str(results)"
   ]
  },
  {
   "cell_type": "markdown",
   "id": "3f9da62b",
   "metadata": {},
   "source": []
  },
  {
   "cell_type": "code",
   "execution_count": null,
   "id": "9ad023bc",
   "metadata": {},
   "outputs": [],
   "source": [
    "@tool\n",
    "def get_weather_data(city: str) -> str:\n",
    "  \"\"\"\n",
    "  This function fetches the current weather data for a given city\n",
    "  \"\"\"\n",
    "  url = f'https://api.weatherstack.com/current?access_key=enter_your_access_key&query={city}'\n",
    "\n",
    "  response = requests.get(url)\n",
    "\n",
    "  return response.json()"
   ]
  },
  {
   "cell_type": "code",
   "execution_count": 32,
   "id": "d18ab73b",
   "metadata": {},
   "outputs": [],
   "source": [
    "llm = ChatGroq(model=\"llama3-8b-8192\")"
   ]
  },
  {
   "cell_type": "code",
   "execution_count": 33,
   "id": "f47f7e54",
   "metadata": {},
   "outputs": [
    {
     "data": {
      "text/plain": [
       "AIMessage(content=\"Hi! It's nice to meet you. Is there something I can help you with or would you like to chat?\", additional_kwargs={}, response_metadata={'token_usage': {'completion_tokens': 25, 'prompt_tokens': 11, 'total_tokens': 36, 'completion_time': 0.029330463, 'prompt_time': 0.006204232, 'queue_time': 0.6881101350000001, 'total_time': 0.035534695}, 'model_name': 'llama3-8b-8192', 'system_fingerprint': 'fp_24ec19897b', 'finish_reason': 'stop', 'logprobs': None}, id='run--38442c5b-ab14-4a8d-b847-9d0894852c3b-0', usage_metadata={'input_tokens': 11, 'output_tokens': 25, 'total_tokens': 36})"
      ]
     },
     "execution_count": 33,
     "metadata": {},
     "output_type": "execute_result"
    }
   ],
   "source": [
    "llm.invoke('hi')"
   ]
  },
  {
   "cell_type": "code",
   "execution_count": 34,
   "id": "4f41ca4f",
   "metadata": {},
   "outputs": [],
   "source": [
    "from langchain.agents import create_react_agent, AgentExecutor\n",
    "from langchain  import hub"
   ]
  },
  {
   "cell_type": "code",
   "execution_count": 35,
   "id": "1738f68f",
   "metadata": {},
   "outputs": [
    {
     "name": "stderr",
     "output_type": "stream",
     "text": [
      "c:\\Users\\91827\\Desktop\\agents_in_langchain\\.venv\\Lib\\site-packages\\langsmith\\client.py:272: LangSmithMissingAPIKeyWarning: API key must be provided when using hosted LangSmith API\n",
      "  warnings.warn(\n"
     ]
    }
   ],
   "source": [
    "# step 2: Pull the ReAct propt from LangChain Hub\n",
    "\n",
    "prompt = hub.pull(\"hwchase17/react\") # pulls the standard ReAct agent prompt"
   ]
  },
  {
   "cell_type": "code",
   "execution_count": 36,
   "id": "d7256a05",
   "metadata": {},
   "outputs": [],
   "source": [
    "# step 3: Create the ReAct agent manually with the pulled prompt\n",
    "agent = create_react_agent(\n",
    "    llm=llm,\n",
    "    tools=[search, get_weather_data],\n",
    "    prompt=prompt\n",
    ")"
   ]
  },
  {
   "cell_type": "code",
   "execution_count": 37,
   "id": "211a790b",
   "metadata": {},
   "outputs": [],
   "source": [
    "# step 4: Wrap it with AgentExecutor\n",
    "agent_executor = AgentExecutor(\n",
    "    agent=agent,\n",
    "    tools=[search, get_weather_data],\n",
    "    verbose=True\n",
    ")"
   ]
  },
  {
   "cell_type": "code",
   "execution_count": 38,
   "id": "40989690",
   "metadata": {},
   "outputs": [
    {
     "name": "stdout",
     "output_type": "stream",
     "text": [
      "\n",
      "\n",
      "\u001b[1m> Entering new AgentExecutor chain...\u001b[0m\n",
      "\u001b[32;1m\u001b[1;3mThought: I need to find the capital of Madhya Pradesh first. Then, I can use that information to get the current weather data.\n",
      "\n",
      "Action: search\n",
      "Action Input: \"capital of Madhya Pradesh\"\u001b[0m\u001b[36;1m\u001b[1;3m[{'title': 'Madhya Pradesh | History, Government, Map, Capital, & Facts', 'href': 'https://www.britannica.com/place/Madhya-Pradesh', 'body': ''}, {'title': 'Capital of Madhya Pradesh: City, Map & Key Facts Explained', 'href': 'https://www.vedantu.com/geography/capital-of-madhya-pradesh', 'body': 'Find out the capital of Madhya Pradesh, its location, history, and why Bhopal is the state’s political and cultural center.'}, {'title': \"Bhopal - BYJU'S\", 'href': 'https://byjus.com/social-science/capital-of-madhya-pradesh/', 'body': 'Soon after independence, Nagpur was the capital of Madhya Pradesh. After the States Reorganisation Act was passed, the states of India were divided based on language and …'}, {'title': 'About District | District Bhopal, Government of Madhya Pradesh', 'href': 'https://bhopal.nic.in/en/about-district/', 'body': 'May 23, 2025 · Bhopal, the capital of Madhya Pradesh, is a fascinating amalgam of scenic beauty, old historic city and modern urban planning. It is the 11th century city Bhojpal, founded by Raja …'}, {'title': 'What Is The Capital Of Madhya Pradesh? | Digi Study Lab.in', 'href': 'https://www.digistudylab.in/general-knowledge/what-is-the-capital-of-madhya-pradesh/', 'body': 'Mar 7, 2025 · Bhopal is the capital city of Madhya Pradesh, known for its historical significance, lakes, and rich cultural heritage. It serves as the political and administrative hub, housing the …'}]\u001b[0m\u001b[32;1m\u001b[1;3mThought: Now that I have the search results, I can identify the capital of Madhya Pradesh. After reviewing the search results, I see that all the sources agree that the capital of Madhya Pradesh is Bhopal.\n",
      "\n",
      "Action: get_weather_data\n",
      "Action Input: Bhopal\u001b[0m\u001b[33;1m\u001b[1;3m{'request': {'type': 'City', 'query': 'Bhopal, India', 'language': 'en', 'unit': 'm'}, 'location': {'name': 'Bhopal', 'country': 'India', 'region': 'Madhya Pradesh', 'lat': '23.267', 'lon': '77.400', 'timezone_id': 'Asia/Kolkata', 'localtime': '2025-07-11 11:11', 'localtime_epoch': 1752232260, 'utc_offset': '5.50'}, 'current': {'observation_time': '05:41 AM', 'temperature': 27, 'weather_code': 143, 'weather_icons': ['https://cdn.worldweatheronline.com/images/wsymbols01_png_64/wsymbol_0006_mist.png'], 'weather_descriptions': ['Haze'], 'astro': {'sunrise': '05:42 AM', 'sunset': '07:10 PM', 'moonrise': '07:53 PM', 'moonset': '05:47 AM', 'moon_phase': 'Waning Gibbous', 'moon_illumination': 100}, 'air_quality': {'co': '368.15', 'no2': '16.65', 'o3': '54', 'so2': '11.655', 'pm2_5': '51.06', 'pm10': '84.36', 'us-epa-index': '3', 'gb-defra-index': '3'}, 'wind_speed': 16, 'wind_degree': 296, 'wind_dir': 'WNW', 'pressure': 1007, 'precip': 0, 'humidity': 94, 'cloudcover': 75, 'feelslike': 29, 'uv_index': 6, 'visibility': 5, 'is_day': 'yes'}}\u001b[0m\u001b[32;1m\u001b[1;3mThought: I have successfully identified the capital of Madhya Pradesh as Bhopal and obtained its current weather data.\n",
      "\n",
      "Final Answer: The capital of Madhya Pradesh is Bhopal, and its current weather condition is hazy with a temperature of 27°C, humidity of 94%, and wind speed of 16 km/h.\u001b[0m\n",
      "\n",
      "\u001b[1m> Finished chain.\u001b[0m\n"
     ]
    }
   ],
   "source": [
    "# step 5: Invoke\n",
    "response = agent_executor.invoke({\"input\": \"Find the capital of Madhya Pradesh, then find it's current weather condition\"})"
   ]
  },
  {
   "cell_type": "code",
   "execution_count": 39,
   "id": "ba0481ec",
   "metadata": {},
   "outputs": [
    {
     "data": {
      "text/plain": [
       "'The capital of Madhya Pradesh is Bhopal, and its current weather condition is hazy with a temperature of 27°C, humidity of 94%, and wind speed of 16 km/h.'"
      ]
     },
     "execution_count": 39,
     "metadata": {},
     "output_type": "execute_result"
    }
   ],
   "source": [
    "response['output']"
   ]
  }
 ],
 "metadata": {
  "kernelspec": {
   "display_name": ".venv",
   "language": "python",
   "name": "python3"
  },
  "language_info": {
   "codemirror_mode": {
    "name": "ipython",
    "version": 3
   },
   "file_extension": ".py",
   "mimetype": "text/x-python",
   "name": "python",
   "nbconvert_exporter": "python",
   "pygments_lexer": "ipython3",
   "version": "3.12.4"
  }
 },
 "nbformat": 4,
 "nbformat_minor": 5
}
